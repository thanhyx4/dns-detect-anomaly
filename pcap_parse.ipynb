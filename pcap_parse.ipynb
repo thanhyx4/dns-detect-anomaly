{
  "nbformat": 4,
  "nbformat_minor": 0,
  "metadata": {
    "colab": {
      "provenance": [],
      "authorship_tag": "ABX9TyPmG1YMyJzF106L8Dhq/Rvz",
      "include_colab_link": true
    },
    "kernelspec": {
      "name": "python3",
      "display_name": "Python 3"
    },
    "language_info": {
      "name": "python"
    }
  },
  "cells": [
    {
      "cell_type": "markdown",
      "metadata": {
        "id": "view-in-github",
        "colab_type": "text"
      },
      "source": [
        "<a href=\"https://colab.research.google.com/github/thanhyx4/dns-detect-anomaly/blob/main/pcap_parse.ipynb\" target=\"_parent\"><img src=\"https://colab.research.google.com/assets/colab-badge.svg\" alt=\"Open In Colab\"/></a>"
      ]
    },
    {
      "cell_type": "code",
      "source": [
        "!pip install scapy"
      ],
      "metadata": {
        "colab": {
          "base_uri": "https://localhost:8080/"
        },
        "id": "oQU3ETErkdb0",
        "outputId": "9bb0fc6b-83b0-407c-945c-102c310eb33f"
      },
      "execution_count": null,
      "outputs": [
        {
          "output_type": "stream",
          "name": "stdout",
          "text": [
            "Collecting scapy\n",
            "  Downloading scapy-2.5.0.tar.gz (1.3 MB)\n",
            "\u001b[2K     \u001b[90m━━━━━━━━━━━━━━━━━━━━━━━━━━━━━━━━━━━━━━━━\u001b[0m \u001b[32m1.3/1.3 MB\u001b[0m \u001b[31m9.0 MB/s\u001b[0m eta \u001b[36m0:00:00\u001b[0m\n",
            "\u001b[?25h  Preparing metadata (setup.py) ... \u001b[?25l\u001b[?25hdone\n",
            "Building wheels for collected packages: scapy\n",
            "  Building wheel for scapy (setup.py) ... \u001b[?25l\u001b[?25hdone\n",
            "  Created wheel for scapy: filename=scapy-2.5.0-py2.py3-none-any.whl size=1444328 sha256=1f14ee913e6660b5c761edee6757b081e621d182d605d0cded9eb44233740393\n",
            "  Stored in directory: /root/.cache/pip/wheels/82/b7/03/8344d8cf6695624746311bc0d389e9d05535ca83c35f90241d\n",
            "Successfully built scapy\n",
            "Installing collected packages: scapy\n",
            "Successfully installed scapy-2.5.0\n"
          ]
        }
      ]
    },
    {
      "cell_type": "code",
      "execution_count": null,
      "metadata": {
        "id": "plUHmni0kRDR"
      },
      "outputs": [],
      "source": [
        "from scapy.all import *\n",
        "from scapy.layers.dns import DNS, DNSQR\n",
        "\n",
        "import pandas as pd\n",
        "import numpy as np\n"
      ]
    },
    {
      "cell_type": "code",
      "source": [
        "#print(rec_type)\n",
        "dns_packets = rdpcap('dns-hdns-02_2024-01-07_00_01.pcap')\n",
        "\n",
        "df = pd.DataFrame('src': ,)"
      ],
      "metadata": {
        "colab": {
          "base_uri": "https://localhost:8080/"
        },
        "id": "IH_23eQhprEA",
        "outputId": "d29c61c9-ba3c-4192-8795-37b05f02289a"
      },
      "execution_count": null,
      "outputs": [
        {
          "output_type": "stream",
          "name": "stdout",
          "text": [
            "28\n"
          ]
        }
      ]
    },
    {
      "cell_type": "code",
      "source": [
        "dns_packets[1000].arcount"
      ],
      "metadata": {
        "colab": {
          "base_uri": "https://localhost:8080/"
        },
        "id": "BZQvr5VuEq7s",
        "outputId": "b90f571f-1720-450e-da2c-c25fcb6f7d40"
      },
      "execution_count": 38,
      "outputs": [
        {
          "output_type": "execute_result",
          "data": {
            "text/plain": [
              "9"
            ]
          },
          "metadata": {},
          "execution_count": 38
        }
      ]
    },
    {
      "cell_type": "code",
      "source": [
        "#packet[IP].src\n",
        "#packet.time                          #layer: Ethernet: dst, src, type(IPv4, 6)   IP, UPD/TCP, DNS\n",
        "dns_packets[1000].time"
      ],
      "metadata": {
        "colab": {
          "base_uri": "https://localhost:8080/"
        },
        "id": "K4q5UQiEr4MR",
        "outputId": "bbd6d1f9-4ea0-4714-f04a-eef655588aec"
      },
      "execution_count": 35,
      "outputs": [
        {
          "output_type": "execute_result",
          "data": {
            "text/plain": [
              "Decimal('1704560528.227645')"
            ]
          },
          "metadata": {},
          "execution_count": 35
        }
      ]
    },
    {
      "cell_type": "code",
      "source": [
        "\n",
        "src_list = []\n",
        "dst_list = []\n",
        "time_list = []\n",
        "srcp_list = []\n",
        "dstp_list = []\n",
        "ttl_list = []\n",
        "\n",
        "\n",
        "for packet in dns_packets:\n",
        "    if packet.haslayer(DNS):\n",
        "        if packet.haslayer(IP):\n",
        "          dst_list.append(packet[IP].dst)\n",
        "        else:\n",
        "          dst_list.append(packet[IPv6].dst)\n",
        "    else:\n",
        "      print(packet.show())\n",
        "      break\n"
      ],
      "metadata": {
        "colab": {
          "base_uri": "https://localhost:8080/"
        },
        "id": "m4S8eIK1kXOF",
        "outputId": "a337c71a-0d8b-4f66-964f-41fb2047f8ff"
      },
      "execution_count": 24,
      "outputs": [
        {
          "output_type": "stream",
          "name": "stdout",
          "text": [
            "###[ Ethernet ]### \n",
            "  dst       = 00:50:56:a0:73:7d\n",
            "  src       = 00:10:db:ff:10:02\n",
            "  type      = IPv6\n",
            "###[ IPv6 ]### \n",
            "     version   = 6\n",
            "     tc        = 32\n",
            "     fl        = 365951\n",
            "     plen      = 40\n",
            "     nh        = TCP\n",
            "     hlim      = 53\n",
            "     src       = 2404:e800:103::23\n",
            "     dst       = 2001:dc8:c001:2::80\n",
            "###[ TCP ]### \n",
            "        sport     = 32783\n",
            "        dport     = 53\n",
            "        seq       = 1322306921\n",
            "        ack       = 0\n",
            "        dataofs   = 10\n",
            "        reserved  = 0\n",
            "        flags     = S\n",
            "        window    = 24400\n",
            "        chksum    = 0x9ba7\n",
            "        urgptr    = 0\n",
            "        options   = [('MSS', 1220), ('SAckOK', b''), ('Timestamp', (2833714458, 0)), ('NOP', None), ('WScale', 8)]\n",
            "\n",
            "None\n"
          ]
        }
      ]
    },
    {
      "cell_type": "markdown",
      "source": [],
      "metadata": {
        "id": "isdgGlrQkWpq"
      }
    }
  ]
}